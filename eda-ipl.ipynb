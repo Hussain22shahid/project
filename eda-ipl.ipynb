{
 "cells": [
  {
   "cell_type": "code",
   "execution_count": 1,
   "id": "66209c42",
   "metadata": {
    "_cell_guid": "b1076dfc-b9ad-4769-8c92-a6c4dae69d19",
    "_uuid": "8f2839f25d086af736a60e9eeb907d3b93b6e0e5",
    "execution": {
     "iopub.execute_input": "2023-05-16T12:23:06.994026Z",
     "iopub.status.busy": "2023-05-16T12:23:06.993297Z",
     "iopub.status.idle": "2023-05-16T12:23:09.335736Z",
     "shell.execute_reply": "2023-05-16T12:23:09.334649Z"
    },
    "papermill": {
     "duration": 2.349869,
     "end_time": "2023-05-16T12:23:09.338455",
     "exception": false,
     "start_time": "2023-05-16T12:23:06.988586",
     "status": "completed"
    },
    "tags": []
   },
   "outputs": [
    {
     "name": "stderr",
     "output_type": "stream",
     "text": [
      "/opt/conda/lib/python3.10/site-packages/scipy/__init__.py:146: UserWarning: A NumPy version >=1.16.5 and <1.23.0 is required for this version of SciPy (detected version 1.23.5\n",
      "  warnings.warn(f\"A NumPy version >={np_minversion} and <{np_maxversion}\"\n"
     ]
    }
   ],
   "source": [
    "import pandas as pd\n",
    "import numpy as np\n",
    "import seaborn as sns\n",
    "import plotly.express as px\n",
    "import matplotlib.pyplot as plt\n",
    "%matplotlib inline"
   ]
  },
  {
   "cell_type": "code",
   "execution_count": 2,
   "id": "811e56fa",
   "metadata": {
    "execution": {
     "iopub.execute_input": "2023-05-16T12:23:09.346713Z",
     "iopub.status.busy": "2023-05-16T12:23:09.346041Z",
     "iopub.status.idle": "2023-05-16T12:23:09.420908Z",
     "shell.execute_reply": "2023-05-16T12:23:09.419712Z"
    },
    "papermill": {
     "duration": 0.082124,
     "end_time": "2023-05-16T12:23:09.423722",
     "exception": false,
     "start_time": "2023-05-16T12:23:09.341598",
     "status": "completed"
    },
    "tags": []
   },
   "outputs": [
    {
     "data": {
      "text/html": [
       "<div>\n",
       "<style scoped>\n",
       "    .dataframe tbody tr th:only-of-type {\n",
       "        vertical-align: middle;\n",
       "    }\n",
       "\n",
       "    .dataframe tbody tr th {\n",
       "        vertical-align: top;\n",
       "    }\n",
       "\n",
       "    .dataframe thead th {\n",
       "        text-align: right;\n",
       "    }\n",
       "</style>\n",
       "<table border=\"1\" class=\"dataframe\">\n",
       "  <thead>\n",
       "    <tr style=\"text-align: right;\">\n",
       "      <th></th>\n",
       "      <th>Player_Id</th>\n",
       "      <th>Runs</th>\n",
       "      <th>Balls_played</th>\n",
       "      <th>Strike_Rate</th>\n",
       "      <th>cluster</th>\n",
       "      <th>Player_Name</th>\n",
       "      <th>Batting_Hand</th>\n",
       "      <th>DOB</th>\n",
       "      <th>Country</th>\n",
       "    </tr>\n",
       "  </thead>\n",
       "  <tbody>\n",
       "    <tr>\n",
       "      <th>0</th>\n",
       "      <td>236</td>\n",
       "      <td>924.0</td>\n",
       "      <td>760</td>\n",
       "      <td>121.58</td>\n",
       "      <td>0</td>\n",
       "      <td>Mandeep Singh</td>\n",
       "      <td>Right_Hand</td>\n",
       "      <td>18-Dec-91</td>\n",
       "      <td>India</td>\n",
       "    </tr>\n",
       "    <tr>\n",
       "      <th>1</th>\n",
       "      <td>71</td>\n",
       "      <td>1262.0</td>\n",
       "      <td>1032</td>\n",
       "      <td>122.29</td>\n",
       "      <td>0</td>\n",
       "      <td>DJ Bravo</td>\n",
       "      <td>Right_Hand</td>\n",
       "      <td>7-Oct-83</td>\n",
       "      <td>West Indies</td>\n",
       "    </tr>\n",
       "    <tr>\n",
       "      <th>2</th>\n",
       "      <td>383</td>\n",
       "      <td>942.0</td>\n",
       "      <td>762</td>\n",
       "      <td>123.62</td>\n",
       "      <td>0</td>\n",
       "      <td>LMP Simmons</td>\n",
       "      <td>Right_Hand</td>\n",
       "      <td>25-Jan-85</td>\n",
       "      <td>West Indies</td>\n",
       "    </tr>\n",
       "    <tr>\n",
       "      <th>3</th>\n",
       "      <td>104</td>\n",
       "      <td>1400.0</td>\n",
       "      <td>1153</td>\n",
       "      <td>121.42</td>\n",
       "      <td>0</td>\n",
       "      <td>BJ Hodge</td>\n",
       "      <td>Right_Hand</td>\n",
       "      <td>29-Dec-74</td>\n",
       "      <td>Australia</td>\n",
       "    </tr>\n",
       "    <tr>\n",
       "      <th>4</th>\n",
       "      <td>355</td>\n",
       "      <td>726.0</td>\n",
       "      <td>566</td>\n",
       "      <td>128.27</td>\n",
       "      <td>0</td>\n",
       "      <td>Q de Kock</td>\n",
       "      <td>Left_Hand</td>\n",
       "      <td>17-Dec-92</td>\n",
       "      <td>South Africa</td>\n",
       "    </tr>\n",
       "    <tr>\n",
       "      <th>5</th>\n",
       "      <td>354</td>\n",
       "      <td>725.0</td>\n",
       "      <td>592</td>\n",
       "      <td>122.47</td>\n",
       "      <td>0</td>\n",
       "      <td>KL Rahul</td>\n",
       "      <td>Right_Hand</td>\n",
       "      <td>18-Apr-92</td>\n",
       "      <td>India</td>\n",
       "    </tr>\n",
       "    <tr>\n",
       "      <th>6</th>\n",
       "      <td>345</td>\n",
       "      <td>728.0</td>\n",
       "      <td>580</td>\n",
       "      <td>125.52</td>\n",
       "      <td>0</td>\n",
       "      <td>M Vohra</td>\n",
       "      <td>Right_Hand</td>\n",
       "      <td>18-Jul-93</td>\n",
       "      <td>India</td>\n",
       "    </tr>\n",
       "    <tr>\n",
       "      <th>7</th>\n",
       "      <td>157</td>\n",
       "      <td>604.0</td>\n",
       "      <td>466</td>\n",
       "      <td>129.61</td>\n",
       "      <td>0</td>\n",
       "      <td>JD Ryder</td>\n",
       "      <td>Left_Hand</td>\n",
       "      <td>6-Aug-84</td>\n",
       "      <td>New Zealand</td>\n",
       "    </tr>\n",
       "    <tr>\n",
       "      <th>8</th>\n",
       "      <td>158</td>\n",
       "      <td>1001.0</td>\n",
       "      <td>758</td>\n",
       "      <td>132.06</td>\n",
       "      <td>0</td>\n",
       "      <td>KP Pietersen</td>\n",
       "      <td>Right_Hand</td>\n",
       "      <td>27-Jun-80</td>\n",
       "      <td>South Africa</td>\n",
       "    </tr>\n",
       "    <tr>\n",
       "      <th>9</th>\n",
       "      <td>163</td>\n",
       "      <td>692.0</td>\n",
       "      <td>564</td>\n",
       "      <td>122.70</td>\n",
       "      <td>0</td>\n",
       "      <td>MC Henriques</td>\n",
       "      <td>Right_Hand</td>\n",
       "      <td>1-Feb-87</td>\n",
       "      <td>Australia</td>\n",
       "    </tr>\n",
       "  </tbody>\n",
       "</table>\n",
       "</div>"
      ],
      "text/plain": [
       "   Player_Id    Runs  Balls_played  Strike_Rate  cluster    Player_Name  \\\n",
       "0        236   924.0           760       121.58        0  Mandeep Singh   \n",
       "1         71  1262.0          1032       122.29        0       DJ Bravo   \n",
       "2        383   942.0           762       123.62        0    LMP Simmons   \n",
       "3        104  1400.0          1153       121.42        0       BJ Hodge   \n",
       "4        355   726.0           566       128.27        0      Q de Kock   \n",
       "5        354   725.0           592       122.47        0       KL Rahul   \n",
       "6        345   728.0           580       125.52        0        M Vohra   \n",
       "7        157   604.0           466       129.61        0       JD Ryder   \n",
       "8        158  1001.0           758       132.06        0   KP Pietersen   \n",
       "9        163   692.0           564       122.70        0   MC Henriques   \n",
       "\n",
       "  Batting_Hand        DOB       Country  \n",
       "0   Right_Hand  18-Dec-91         India  \n",
       "1   Right_Hand   7-Oct-83   West Indies  \n",
       "2   Right_Hand  25-Jan-85   West Indies  \n",
       "3   Right_Hand  29-Dec-74     Australia  \n",
       "4    Left_Hand  17-Dec-92  South Africa  \n",
       "5   Right_Hand  18-Apr-92         India  \n",
       "6   Right_Hand  18-Jul-93         India  \n",
       "7    Left_Hand   6-Aug-84   New Zealand  \n",
       "8   Right_Hand  27-Jun-80  South Africa  \n",
       "9   Right_Hand   1-Feb-87     Australia  "
      ]
     },
     "execution_count": 2,
     "metadata": {},
     "output_type": "execute_result"
    }
   ],
   "source": [
    "players = pd.read_csv(r'/kaggle/input/ipl-player-clusters/Batsmen.csv').reset_index()\n",
    "players = players.drop([\"index\", \"Unnamed: 0\"], axis = 1)\n",
    "players.head(10)"
   ]
  },
  {
   "cell_type": "code",
   "execution_count": 3,
   "id": "b8693328",
   "metadata": {
    "execution": {
     "iopub.execute_input": "2023-05-16T12:23:09.431810Z",
     "iopub.status.busy": "2023-05-16T12:23:09.431370Z",
     "iopub.status.idle": "2023-05-16T12:23:09.451022Z",
     "shell.execute_reply": "2023-05-16T12:23:09.449632Z"
    },
    "papermill": {
     "duration": 0.027209,
     "end_time": "2023-05-16T12:23:09.454143",
     "exception": false,
     "start_time": "2023-05-16T12:23:09.426934",
     "status": "completed"
    },
    "tags": []
   },
   "outputs": [
    {
     "name": "stderr",
     "output_type": "stream",
     "text": [
      "/tmp/ipykernel_20/1473777867.py:2: FutureWarning: Indexing with multiple keys (implicitly converted to a tuple of keys) will be deprecated, use a list instead.\n",
      "  country_Runs=players.groupby('Country')['Runs','Balls_played'].sum().reset_index().sort_values(by='Runs',ascending=False)\n"
     ]
    }
   ],
   "source": [
    "#country Wise runs\n",
    "country_Runs=players.groupby('Country')['Runs','Balls_played'].sum().reset_index().sort_values(by='Runs',ascending=False)"
   ]
  },
  {
   "cell_type": "code",
   "execution_count": 4,
   "id": "f08bb738",
   "metadata": {
    "execution": {
     "iopub.execute_input": "2023-05-16T12:23:09.462858Z",
     "iopub.status.busy": "2023-05-16T12:23:09.462383Z",
     "iopub.status.idle": "2023-05-16T12:23:09.469340Z",
     "shell.execute_reply": "2023-05-16T12:23:09.467991Z"
    },
    "papermill": {
     "duration": 0.013756,
     "end_time": "2023-05-16T12:23:09.471562",
     "exception": false,
     "start_time": "2023-05-16T12:23:09.457806",
     "status": "completed"
    },
    "tags": []
   },
   "outputs": [],
   "source": [
    "#calculating the strike\n",
    "dec_places = 2\n",
    "country_Runs['strike_rate']=((country_Runs['Runs']/country_Runs['Balls_played'])*100).round(dec_places)"
   ]
  },
  {
   "cell_type": "code",
   "execution_count": 5,
   "id": "fb045c9a",
   "metadata": {
    "execution": {
     "iopub.execute_input": "2023-05-16T12:23:09.480563Z",
     "iopub.status.busy": "2023-05-16T12:23:09.480134Z",
     "iopub.status.idle": "2023-05-16T12:23:09.495071Z",
     "shell.execute_reply": "2023-05-16T12:23:09.493902Z"
    },
    "papermill": {
     "duration": 0.022023,
     "end_time": "2023-05-16T12:23:09.497538",
     "exception": false,
     "start_time": "2023-05-16T12:23:09.475515",
     "status": "completed"
    },
    "tags": []
   },
   "outputs": [
    {
     "data": {
      "text/html": [
       "<div>\n",
       "<style scoped>\n",
       "    .dataframe tbody tr th:only-of-type {\n",
       "        vertical-align: middle;\n",
       "    }\n",
       "\n",
       "    .dataframe tbody tr th {\n",
       "        vertical-align: top;\n",
       "    }\n",
       "\n",
       "    .dataframe thead th {\n",
       "        text-align: right;\n",
       "    }\n",
       "</style>\n",
       "<table border=\"1\" class=\"dataframe\">\n",
       "  <thead>\n",
       "    <tr style=\"text-align: right;\">\n",
       "      <th></th>\n",
       "      <th>Country</th>\n",
       "      <th>Runs</th>\n",
       "      <th>Balls_played</th>\n",
       "      <th>strike_rate</th>\n",
       "    </tr>\n",
       "  </thead>\n",
       "  <tbody>\n",
       "    <tr>\n",
       "      <th>3</th>\n",
       "      <td>India</td>\n",
       "      <td>49869.0</td>\n",
       "      <td>38616</td>\n",
       "      <td>129.14</td>\n",
       "    </tr>\n",
       "    <tr>\n",
       "      <th>0</th>\n",
       "      <td>Australia</td>\n",
       "      <td>22108.0</td>\n",
       "      <td>16971</td>\n",
       "      <td>130.27</td>\n",
       "    </tr>\n",
       "    <tr>\n",
       "      <th>7</th>\n",
       "      <td>South Africa</td>\n",
       "      <td>12148.0</td>\n",
       "      <td>9054</td>\n",
       "      <td>134.17</td>\n",
       "    </tr>\n",
       "    <tr>\n",
       "      <th>9</th>\n",
       "      <td>West Indies</td>\n",
       "      <td>10529.0</td>\n",
       "      <td>7639</td>\n",
       "      <td>137.83</td>\n",
       "    </tr>\n",
       "    <tr>\n",
       "      <th>5</th>\n",
       "      <td>New Zealand</td>\n",
       "      <td>4541.0</td>\n",
       "      <td>3622</td>\n",
       "      <td>125.37</td>\n",
       "    </tr>\n",
       "    <tr>\n",
       "      <th>8</th>\n",
       "      <td>Sri Lanka</td>\n",
       "      <td>1943.0</td>\n",
       "      <td>1511</td>\n",
       "      <td>128.59</td>\n",
       "    </tr>\n",
       "    <tr>\n",
       "      <th>2</th>\n",
       "      <td>England</td>\n",
       "      <td>1436.0</td>\n",
       "      <td>1080</td>\n",
       "      <td>132.96</td>\n",
       "    </tr>\n",
       "    <tr>\n",
       "      <th>6</th>\n",
       "      <td>Pakistan</td>\n",
       "      <td>753.0</td>\n",
       "      <td>536</td>\n",
       "      <td>140.49</td>\n",
       "    </tr>\n",
       "    <tr>\n",
       "      <th>1</th>\n",
       "      <td>Bangladesh</td>\n",
       "      <td>499.0</td>\n",
       "      <td>400</td>\n",
       "      <td>124.75</td>\n",
       "    </tr>\n",
       "    <tr>\n",
       "      <th>4</th>\n",
       "      <td>Netherlands</td>\n",
       "      <td>326.0</td>\n",
       "      <td>238</td>\n",
       "      <td>136.97</td>\n",
       "    </tr>\n",
       "  </tbody>\n",
       "</table>\n",
       "</div>"
      ],
      "text/plain": [
       "        Country     Runs  Balls_played  strike_rate\n",
       "3         India  49869.0         38616       129.14\n",
       "0     Australia  22108.0         16971       130.27\n",
       "7  South Africa  12148.0          9054       134.17\n",
       "9   West Indies  10529.0          7639       137.83\n",
       "5   New Zealand   4541.0          3622       125.37\n",
       "8     Sri Lanka   1943.0          1511       128.59\n",
       "2       England   1436.0          1080       132.96\n",
       "6      Pakistan    753.0           536       140.49\n",
       "1    Bangladesh    499.0           400       124.75\n",
       "4   Netherlands    326.0           238       136.97"
      ]
     },
     "execution_count": 5,
     "metadata": {},
     "output_type": "execute_result"
    }
   ],
   "source": [
    "country_Runs"
   ]
  },
  {
   "cell_type": "code",
   "execution_count": 6,
   "id": "5aded2d2",
   "metadata": {
    "execution": {
     "iopub.execute_input": "2023-05-16T12:23:09.506793Z",
     "iopub.status.busy": "2023-05-16T12:23:09.505637Z",
     "iopub.status.idle": "2023-05-16T12:23:09.787247Z",
     "shell.execute_reply": "2023-05-16T12:23:09.785687Z"
    },
    "papermill": {
     "duration": 0.288901,
     "end_time": "2023-05-16T12:23:09.789890",
     "exception": false,
     "start_time": "2023-05-16T12:23:09.500989",
     "status": "completed"
    },
    "tags": []
   },
   "outputs": [
    {
     "data": {
      "image/png": "[encoded data removed]",
      "text/plain": [
       "<Figure size 640x480 with 1 Axes>"
      ]
     },
     "metadata": {},
     "output_type": "display_data"
    }
   ],
   "source": [
    "plt.plot(country_Runs['Runs'],country_Runs['strike_rate'], linestyle='--', marker='o')\n",
    "plt.xlabel(\"runs\")\n",
    "plt.ylabel(\"Strike Rate\")\n",
    "plt.title(\"Runs vs Strike Rate \")\n",
    "plt.show()"
   ]
  },
  {
   "cell_type": "code",
   "execution_count": null,
   "id": "38851305",
   "metadata": {
    "papermill": {
     "duration": 0.003911,
     "end_time": "2023-05-16T12:23:09.797810",
     "exception": false,
     "start_time": "2023-05-16T12:23:09.793899",
     "status": "completed"
    },
    "tags": []
   },
   "outputs": [],
   "source": []
  }
 ],
 "metadata": {
  "kernelspec": {
   "display_name": "Python 3",
   "language": "python",
   "name": "python3"
  },
  "language_info": {
   "codemirror_mode": {
    "name": "ipython",
    "version": 3
   },
   "file_extension": ".py",
   "mimetype": "text/x-python",
   "name": "python",
   "nbconvert_exporter": "python",
   "pygments_lexer": "ipython3",
   "version": "3.10.10"
  },
  "papermill": {
   "default_parameters": {},
   "duration": 16.292212,
   "end_time": "2023-05-16T12:23:10.825580",
   "environment_variables": {},
   "exception": null,
   "input_path": "__notebook__.ipynb",
   "output_path": "__notebook__.ipynb",
   "parameters": {},
   "start_time": "2023-05-16T12:22:54.533368",
   "version": "2.4.0"
  }
 },
 "nbformat": 4,
 "nbformat_minor": 5
}
